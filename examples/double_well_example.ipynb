{
 "metadata": {
  "name": "",
  "signature": "sha256:b59b1f160df2f903935ed6fe2007cd29136228151a97884a9bfbe920f1bd5bc8"
 },
 "nbformat": 3,
 "nbformat_minor": 0,
 "worksheets": [
  {
   "cells": [
    {
     "cell_type": "heading",
     "level": 1,
     "metadata": {},
     "source": [
      "Pyfeat Tutorial"
     ]
    },
    {
     "cell_type": "heading",
     "level": 3,
     "metadata": {},
     "source": [
      "1. Toy system: Data Generation"
     ]
    },
    {
     "cell_type": "markdown",
     "metadata": {},
     "source": [
      "We will walk you through using the API of pyfeat for different simulation types and the different available estimators. As a simple initial example we will consider an asymmetric double well as the potential landscape and a single particle diffusing in this potential according to Brownian dynamics. For this purpose we have prepared a set of scripts that will run short simulations and write the trajectories to file in the correct pyfeat format. If you want to learn how to prepare data in a pyfeat format, it might be worthwhile to have a closer look at the data generating files (trajectory_factory.py). "
     ]
    },
    {
     "cell_type": "code",
     "collapsed": false,
     "input": [
      "#imports\n",
      "#allow for the embedding of plots into the ipython notebook. \n",
      "%pylab inline \n",
      "import trajectory_factory as tf #this is the package that allows the quick generation of input data for pyfeat"
     ],
     "language": "python",
     "metadata": {},
     "outputs": []
    },
    {
     "cell_type": "markdown",
     "metadata": {},
     "source": [
      "Let us run a simulated tempering simulation. CAREFUL the data generation may take a little while."
     ]
    },
    {
     "cell_type": "code",
     "collapsed": false,
     "input": [
      "tf.run_st_simulation() #generates simulated tempering data for pyfeat in the directory ST/"
     ],
     "language": "python",
     "metadata": {},
     "outputs": []
    },
    {
     "cell_type": "markdown",
     "metadata": {},
     "source": [
      "Have a look at the *examples/ST/Traj.dat* file. This will give you a good idea as to how a trajectory should be written out for your own data.\n",
      "All additional files written out will be needed for the analysis. The file *kT.dat* contains the reduced temperatures, *b_k_i.dat* is needed for WHAM and \n",
      "dTRAM and *exact.dat* contains the true stationary probabilities to which we will compare later."
     ]
    },
    {
     "cell_type": "heading",
     "level": 3,
     "metadata": {},
     "source": [
      "2. Toy system: Simulated tempering data analysis"
     ]
    },
    {
     "cell_type": "markdown",
     "metadata": {},
     "source": [
      "Now we have generated the data we want for the pyfeat analysis, it is time to import all the necessary packages from pyfeat"
     ]
    },
    {
     "cell_type": "code",
     "collapsed": false,
     "input": [
      "from pyfeat import xtram, wham, dtram #api function for pyfeat\n",
      "from pyfeat import Reader #allows you to read the data from file in the correct format\n",
      "from pyfeat import Forge #contains all the preformatted data that will then be passed to the estimators"
     ],
     "language": "python",
     "metadata": {},
     "outputs": []
    },
    {
     "cell_type": "markdown",
     "metadata": {},
     "source": [
      "The usual workflow for pyfeat is: Read the data with the reader, who will take a list of files as an agrument plus, any helper files such as a *kT file* or a *b_K_i file*. The reader object is then passed to the data converter (Forge)."
     ]
    },
    {
     "cell_type": "code",
     "collapsed": false,
     "input": [
      "trajlist = ['ST/Traj.dat']\n",
      "reader = Reader( trajlist, b_K_i_file = 'ST/b_K_i.dat', kT_file='ST/kT.dat' ) #read trajectory and 'helper files'\n",
      "forge = Forge( reader.trajs, kT_K = reader.kT_K, b_K_i = reader.b_K_i, kT_target = 0 ) #pass read data to the data forge"
     ],
     "language": "python",
     "metadata": {},
     "outputs": []
    },
    {
     "cell_type": "code",
     "collapsed": false,
     "input": [
      "#load all the exact results\n",
      "exact = np.loadtxt('ST/exact.dat')\n",
      "exact[:,1] = exact[:,1]/np.sum(exact[:,1])"
     ],
     "language": "python",
     "metadata": {},
     "outputs": []
    },
    {
     "cell_type": "markdown",
     "metadata": {},
     "source": [
      "Now we have read all the data and can run our different estimators"
     ]
    },
    {
     "cell_type": "heading",
     "level": 4,
     "metadata": {},
     "source": [
      "2.1 DTRAM"
     ]
    },
    {
     "cell_type": "code",
     "collapsed": false,
     "input": [
      "dtram_est = dtram( forge, lag=1 , maxiter=1000, ftol=1.0e-4, verbose=False )\n",
      "print \"#===============Thank you for using DTRAM=============================\"\n",
      "dtram_est.cite(pre=\"#  \")\n",
      "print \"#=====================================================================\""
     ],
     "language": "python",
     "metadata": {},
     "outputs": []
    },
    {
     "cell_type": "code",
     "collapsed": false,
     "input": [
      "fig = plt.figure(1, figsize=(10,5))\n",
      "fig.add_subplot(121)\n",
      "plt.plot( exact[:,0],dtram_est.f_i , color = 'r', linewidth = 2, linestyle='--', label='DTRAM' )\n",
      "plt.plot( exact[:,0], -np.log(exact[:,1]), color='k', label='exact' )\n",
      "plt.xlabel( 'x in [a.u.]', fontsize = 20 )\n",
      "plt.ylabel( 'F(x) in [kT]', fontsize = 20 )\n",
      "plt.legend(loc=4)\n",
      "fig.add_subplot(122)\n",
      "plt.plot( exact[:,0],dtram_est.pi_i , color = 'r', linewidth = 2, linestyle='--', label='DTRAM' )\n",
      "plt.plot( exact[:,0], exact[:,1], color='k', label='exact' )\n",
      "plt.xlabel( 'x in [a.u.]', fontsize = 20 )\n",
      "plt.ylabel( 'P(x)', fontsize = 20 )\n",
      "plt.semilogy()\n",
      "plt.legend(loc=1)\n",
      "plt.tight_layout()"
     ],
     "language": "python",
     "metadata": {},
     "outputs": []
    },
    {
     "cell_type": "heading",
     "level": 4,
     "metadata": {},
     "source": [
      "2.2 WHAM"
     ]
    },
    {
     "cell_type": "code",
     "collapsed": false,
     "input": [
      "wham_est = wham( forge, maxiter=1000, ftol=1.0e-7, verbose=False ) # and we are done, now we can analyse the results\n",
      "print \"#===============Thank you for using WHAM==================================================\"\n",
      "wham_est.cite(pre=\"#  \")\n",
      "print \"#=========================================================================================\""
     ],
     "language": "python",
     "metadata": {},
     "outputs": []
    },
    {
     "cell_type": "code",
     "collapsed": false,
     "input": [
      "fig = plt.figure(1, figsize=(10,5))\n",
      "fig.add_subplot(121)\n",
      "plt.plot( exact[:,0],wham_est.f_i , color = 'r', linewidth = 2, linestyle='--', label='WHAM' )\n",
      "plt.plot( exact[:,0], -np.log(exact[:,1]), color='k', label='exact' )\n",
      "plt.xlabel( 'x in [a.u.]', fontsize = 20 )\n",
      "plt.ylabel( 'F(x) in [kT]', fontsize = 20 )\n",
      "plt.legend(loc=4)\n",
      "fig.add_subplot(122)\n",
      "plt.plot( exact[:,0],wham_est.pi_i , color = 'r', linewidth = 2, linestyle='--', label='WHAM' )\n",
      "plt.plot( exact[:,0], exact[:,1], color='k', label='exact' )\n",
      "plt.xlabel( 'x in [a.u.]', fontsize = 20 )\n",
      "plt.ylabel( 'P(x)', fontsize = 20 )\n",
      "plt.semilogy()\n",
      "plt.legend(loc=1)\n",
      "plt.tight_layout()"
     ],
     "language": "python",
     "metadata": {},
     "outputs": []
    },
    {
     "cell_type": "heading",
     "level": 4,
     "metadata": {},
     "source": [
      "2.3 XTRAM"
     ]
    },
    {
     "cell_type": "code",
     "collapsed": false,
     "input": [
      "xtram_est = xtram( forge, lag=1 , maxiter=1000, ftol=1.0e-15, verbose=True )\n",
      "print \"#===============Thank you for using XTRAM====================================\"\n",
      "xtram_est.cite(pre=\"#  \")\n",
      "print \"#============================================================================\""
     ],
     "language": "python",
     "metadata": {},
     "outputs": []
    },
    {
     "cell_type": "code",
     "collapsed": false,
     "input": [
      "fig = plt.figure(1, figsize=(10,5))\n",
      "fig.add_subplot(121)\n",
      "plt.plot( exact[:,0],xtram_est.f_i , color = 'r', linewidth = 2, linestyle='--', label='XTRAM' )\n",
      "plt.plot( exact[:,0], -np.log(exact[:,1]), color='k', label='exact' )\n",
      "plt.xlabel( 'x in [a.u.]', fontsize = 20 )\n",
      "plt.ylabel( 'F(x) in [kT]', fontsize = 20 )\n",
      "plt.legend(loc=4)\n",
      "fig.add_subplot(122)\n",
      "plt.plot( exact[:,0],xtram_est.pi_i , color = 'r', linewidth = 2, linestyle='--', label='XTRAM' )\n",
      "plt.plot( exact[:,0], exact[:,1], color='k', label='exact' )\n",
      "plt.xlabel( 'x in [a.u.]', fontsize = 20 )\n",
      "plt.ylabel( 'P(x)', fontsize = 20 )\n",
      "plt.semilogy()\n",
      "plt.legend(loc=1)\n",
      "plt.tight_layout()"
     ],
     "language": "python",
     "metadata": {},
     "outputs": []
    },
    {
     "cell_type": "heading",
     "level": 3,
     "metadata": {},
     "source": [
      "3. Toy system: Umbrella sampling data analysis"
     ]
    },
    {
     "cell_type": "code",
     "collapsed": false,
     "input": [
      "tf.run_us_simulation() #generates umbrella sampling data for pyfeat in the directory US/"
     ],
     "language": "python",
     "metadata": {},
     "outputs": []
    },
    {
     "cell_type": "code",
     "collapsed": false,
     "input": [
      "trajlist = ['US/Traj0.dat', 'US/Traj1.dat', 'US/Traj2.dat', 'US/Traj3.dat', 'US/Traj4.dat', 'US/Traj5.dat', 'US/Traj6.dat',\n",
      "            'US/Traj7.dat', 'US/Traj8.dat', 'US/Traj9.dat', 'US/Traj10.dat', 'US/Traj11.dat', 'US/Traj12.dat', 'US/Traj13.dat',\n",
      "            'US/Traj14.dat', 'US/Traj15.dat', 'US/Traj16.dat', 'US/Traj17.dat', 'US/Traj18.dat', 'US/Traj19.dat', 'US/Traj20.dat',\n",
      "            'US/Traj21.dat', 'US/Traj22.dat', 'US/Traj23.dat', 'US/Traj24.dat', 'US/Traj25.dat', 'US/Traj26.dat', 'US/Traj27.dat',\n",
      "            'US/Traj28.dat', 'US/Traj29.dat']\n",
      "reader = Reader( trajlist, b_K_i_file = 'US/b_K_i.dat' ) #read trajectory and 'helper files'\n",
      "forge = Forge( reader.trajs, b_K_i = reader.b_K_i ) #pass read data to the data forge"
     ],
     "language": "python",
     "metadata": {},
     "outputs": []
    },
    {
     "cell_type": "code",
     "collapsed": false,
     "input": [
      "#load all the exact results\n",
      "exact = np.loadtxt('US/exact.dat')\n",
      "exact[:,1] = exact[:,1]/np.sum(exact[:,1])"
     ],
     "language": "python",
     "metadata": {},
     "outputs": []
    },
    {
     "cell_type": "heading",
     "level": 4,
     "metadata": {},
     "source": [
      "3.1 DTRAM"
     ]
    },
    {
     "cell_type": "code",
     "collapsed": false,
     "input": [
      "dtram_est = dtram( forge, lag=1 , maxiter=10000, ftol=1.0e-6, verbose=False )\n",
      "print \"#===============Thank you for using DTRAM=============================\"\n",
      "dtram_est.cite(pre=\"#  \")\n",
      "print \"#=====================================================================\""
     ],
     "language": "python",
     "metadata": {},
     "outputs": []
    },
    {
     "cell_type": "code",
     "collapsed": false,
     "input": [
      "fig = plt.figure(1, figsize=(10,5))\n",
      "fig.add_subplot(121)\n",
      "plt.plot( exact[:,0],dtram_est.f_i , color = 'r', linewidth = 2, linestyle='--', label='DTRAM' )\n",
      "plt.plot( exact[:,0], -np.log(exact[:,1]), color='k', label='exact' )\n",
      "plt.xlabel( 'x in [a.u.]', fontsize = 20 )\n",
      "plt.ylabel( 'F(x) in [kT]', fontsize = 20 )\n",
      "plt.legend(loc=4)\n",
      "fig.add_subplot(122)\n",
      "plt.plot( exact[:,0],dtram_est.pi_i , color = 'r', linewidth = 2, linestyle='--', label='DTRAM' )\n",
      "plt.plot( exact[:,0], exact[:,1], color='k', label='exact' )\n",
      "plt.xlabel( 'x in [a.u.]', fontsize = 20 )\n",
      "plt.ylabel( 'P(x)', fontsize = 20 )\n",
      "plt.semilogy()\n",
      "plt.legend(loc=1)\n",
      "plt.tight_layout()"
     ],
     "language": "python",
     "metadata": {},
     "outputs": []
    },
    {
     "cell_type": "heading",
     "level": 4,
     "metadata": {},
     "source": [
      "3.2 WHAM"
     ]
    },
    {
     "cell_type": "code",
     "collapsed": false,
     "input": [
      "wham_est = wham( forge, maxiter=20000, ftol=1.0e-7, verbose=False ) # and we are done, now we can analyse the results\n",
      "print \"#===============Thank you for using WHAM==================================================\"\n",
      "wham_est.cite(pre=\"#  \")\n",
      "print \"#=========================================================================================\""
     ],
     "language": "python",
     "metadata": {},
     "outputs": []
    },
    {
     "cell_type": "code",
     "collapsed": false,
     "input": [
      "fig = plt.figure(1, figsize=(10,5))\n",
      "fig.add_subplot(121)\n",
      "plt.plot( exact[:,0],wham_est.f_i , color='r', linewidth=2, linestyle='--', label='WHAM' )\n",
      "plt.plot( exact[:,0], -np.log(exact[:,1]), color='k', label='exact' )\n",
      "plt.xlabel( 'x in [a.u.]', fontsize = 20 )\n",
      "plt.ylabel( 'F(x) in [kT]', fontsize = 20 )\n",
      "plt.legend(loc=4)\n",
      "fig.add_subplot(122)\n",
      "plt.plot( exact[:,0],wham_est.pi_i , color='r', linewidth=2, linestyle='--', label='WHAM' )\n",
      "plt.plot( exact[:,0], exact[:,1], color='k', label='exact' )\n",
      "plt.xlabel( 'x in [a.u.]', fontsize = 20 )\n",
      "plt.ylabel( 'P(x)', fontsize = 20 )\n",
      "plt.semilogy()\n",
      "plt.legend(loc=1)\n",
      "plt.tight_layout()"
     ],
     "language": "python",
     "metadata": {},
     "outputs": []
    },
    {
     "cell_type": "markdown",
     "metadata": {},
     "source": [
      "Thank you for running the pyfeat asymetric double-well example. If you have any further questions, or notice any bugs, please notify us on the mailinglist **pyfeat@lists.fu-berlin.de**."
     ]
    },
    {
     "cell_type": "code",
     "collapsed": false,
     "input": [],
     "language": "python",
     "metadata": {},
     "outputs": []
    }
   ],
   "metadata": {}
  }
 ]
}