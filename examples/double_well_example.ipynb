{
 "metadata": {
  "name": "",
  "signature": "sha256:29f90a1405b84aec9a868b73b678a4dd393475a32bfcd291e1bb7a1a117cc877"
 },
 "nbformat": 3,
 "nbformat_minor": 0,
 "worksheets": [
  {
   "cells": [
    {
     "cell_type": "heading",
     "level": 1,
     "metadata": {},
     "source": [
      "Pyfeat examples 1 -- Tutorial"
     ]
    },
    {
     "cell_type": "heading",
     "level": 3,
     "metadata": {},
     "source": [
      "1. Toy system: Data Generation"
     ]
    },
    {
     "cell_type": "markdown",
     "metadata": {},
     "source": [
      "We will walk you through using the API of pyfeat for different simulation types and different the different available estimators within pyfeat. As a simple initial example we will consider an assymetric double well as the potential and a single particle diffusing in this potential according to Brownian dynamics. For this purpose we have prepared a set of scripts that will run short simulations and write the trajectories to file in the correct pyfeat format. If you want to learn how to prepare data in a pyfeat format, it might be worthwhile to have a closer look at the data generating files. "
     ]
    },
    {
     "cell_type": "code",
     "collapsed": false,
     "input": [
      "#imports\n",
      "import numpy as np \n",
      "import matplotlib.pylab as plt #use matplotlib for plotting of results\n",
      "#allow for the embedding of plots into the ipython notebook. \n",
      "%pylab inline \n",
      "#import trajectory_factory #this is the package that allows the quick generation of input data for pyfeat"
     ],
     "language": "python",
     "metadata": {},
     "outputs": [
      {
       "output_type": "stream",
       "stream": "stdout",
       "text": [
        "Populating the interactive namespace from numpy and matplotlib\n"
       ]
      },
      {
       "output_type": "stream",
       "stream": "stderr",
       "text": [
        "WARNING: pylab import has clobbered these variables: ['plt']\n",
        "`%matplotlib` prevents importing * from pylab and numpy\n"
       ]
      }
     ],
     "prompt_number": 2
    },
    {
     "cell_type": "code",
     "collapsed": false,
     "input": [
      "#trajectory_factory.run_st_simulation() #generates simulated tempering data for pyfeat in the directory ST/\n",
      "#trajectory_factory.run_us_simulation() #generates umbrella sampling data for pyfeat in the directory US/\n",
      "#trajectory_factory.run_hre_simulation() #generates a data set for a hamiltonian replica exchange simulation in th directory HRE/"
     ],
     "language": "python",
     "metadata": {},
     "outputs": [],
     "prompt_number": 3
    },
    {
     "cell_type": "heading",
     "level": 3,
     "metadata": {},
     "source": [
      "2. Toy system: Simulated tempering data analysis"
     ]
    },
    {
     "cell_type": "markdown",
     "metadata": {},
     "source": [
      "Now we have generated the data we want for the pyfeat analysis, so it is time to import all the necessary packages from pyfeat"
     ]
    },
    {
     "cell_type": "code",
     "collapsed": false,
     "input": [
      "from pyfeat.api import xtram, wham, dtram #,mbar\n",
      "from pyfeat import Reader #allows you to read the data from file in the correct format\n",
      "from pyfeat import Forge #contains all the preformatted data that will then be passed to the estimators"
     ],
     "language": "python",
     "metadata": {},
     "outputs": [],
     "prompt_number": 7
    },
    {
     "cell_type": "code",
     "collapsed": false,
     "input": [
      "reader = Reader()\n"
     ],
     "language": "python",
     "metadata": {},
     "outputs": []
    },
    {
     "cell_type": "raw",
     "metadata": {},
     "source": []
    }
   ],
   "metadata": {}
  }
 ]
}