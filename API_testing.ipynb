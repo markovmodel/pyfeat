{
 "metadata": {
  "name": "",
  "signature": "sha256:ed25306bcdec5569b8860056b55c267a53466c99aeeb5182e71a0dc1eea6bcdf"
 },
 "nbformat": 3,
 "nbformat_minor": 0,
 "worksheets": [
  {
   "cells": [
    {
     "cell_type": "heading",
     "level": 1,
     "metadata": {},
     "source": [
      "API testing"
     ]
    },
    {
     "cell_type": "code",
     "collapsed": false,
     "input": [
      "%pylab inline\n",
      "import numpy as np\n",
      "import matplotlib.pylab as plt"
     ],
     "language": "python",
     "metadata": {},
     "outputs": [
      {
       "output_type": "stream",
       "stream": "stdout",
       "text": [
        "Populating the interactive namespace from numpy and matplotlib\n"
       ]
      }
     ],
     "prompt_number": 1
    },
    {
     "cell_type": "heading",
     "level": 3,
     "metadata": {},
     "source": [
      "Generating Data"
     ]
    },
    {
     "cell_type": "code",
     "collapsed": false,
     "input": [
      "# harmonic bias potential\n",
      "def B( x, xk ):\n",
      "    if None == xk:\n",
      "        return 0.0\n",
      "    return 4.0*( x - xk )**2\n",
      "# double well potential (with otiopnal bias)\n",
      "def U( x, xk=None ):\n",
      "    return 0.25*x**4 - 5.0*x**2 - 9.9874 + B( x, xk )\n",
      "# Metropolis Monte Carlo\n",
      "def mmc( x0, L, xk=None ):\n",
      "    T = [x0]\n",
      "    E = U( x0, xk )\n",
      "    for t in xrange( L ):\n",
      "        x = T[-1] + 0.4*( np.random.rand() - 0.5 )\n",
      "        e = U( x, xk )\n",
      "        accept = False\n",
      "        if e < E:\n",
      "            accept = True\n",
      "        elif np.random.rand() < np.exp( -( e - E ) ):\n",
      "            accept = True\n",
      "        if accept:\n",
      "            T.append( x )\n",
      "            E = e\n",
      "        else:\n",
      "            T.append( T[-1] )\n",
      "    return np.array( T, dtype=np.float64 )\n",
      "# discretisation scheme\n",
      "def discretise( T, centers ):\n",
      "    D = np.zeros( shape=T.shape, dtype=np.int32 )\n",
      "    for i in xrange( T.shape[0] ):\n",
      "        if T[i] <= centers[0]:\n",
      "            D[i] = 0\n",
      "        elif T[i] >= centers[-1]:\n",
      "            D[i] = centers.shape[0]-1\n",
      "        else:\n",
      "            for j in xrange( centers.shape[0] ):\n",
      "                if T[i] < centers[j]+0.05:\n",
      "                    D[i] = j\n",
      "                    break\n",
      "    return D\n",
      "# generate trajectories\n",
      "def get_trajectories( centers, xk, L ):\n",
      "    r = []\n",
      "    for i in xrange( xk.shape[0] ):\n",
      "        traj = mmc( xk[i], L, xk=xk[i] )\n",
      "        dtraj = discretise( traj, centers )\n",
      "        r.append( { 'm': dtraj, 't': np.ones( shape=dtraj.shape, dtype=np.intc ) * i } )\n",
      "    N_K_i = np.zeros( shape=(xk.shape[0],centers.shape[0]), dtype=np.intc )\n",
      "    for K in xrange( xk.shape[0] ):\n",
      "        for i in xrange( centers.shape[0] ):\n",
      "            N_K_i[K,i] = ( r[K]['m'] == i ).sum()\n",
      "    N_i = N_K_i.sum( axis=0 )\n",
      "    idx = ( N_i > 0 )\n",
      "    NSTATES = idx.sum()\n",
      "    for i in reversed( xrange( centers.shape[0] ) ):\n",
      "        if idx[i]:\n",
      "            continue\n",
      "        for K in xrange( xk.shape[0] ):\n",
      "            idx2 = ( r[K]['m'] > i )\n",
      "            r[K]['m'][idx2] -= 1\n",
      "    return r , idx\n",
      "# set the discretisation and simulation parameters\n",
      "NBINS = 101\n",
      "centers = np.linspace( -5.0, 5.0, NBINS )\n",
      "NBIAS = 11\n",
      "xk = np.linspace( -5.0, 5.0, NBIAS )\n",
      "L = 10000\n",
      "# run the simulations\n",
      "trajs , idx = get_trajectories( centers, xk, L )\n",
      "# calculate the number of visisted states\n",
      "NSTATES = idx.sum()\n",
      "# calculate the bias energies for the visited states\n",
      "b_K_i = np.zeros( shape=(xk.shape[0],NSTATES), dtype=np.float64 )\n",
      "for K in xrange( xk.shape[0] ):\n",
      "    b_K_i[K,:] = B( centers[idx], xk[K] )\n"
     ],
     "language": "python",
     "metadata": {},
     "outputs": []
    },
    {
     "cell_type": "heading",
     "level": 3,
     "metadata": {},
     "source": [
      "Testing WHAM API"
     ]
    },
    {
     "cell_type": "code",
     "collapsed": false,
     "input": [
      "from pyfeat import Forge\n",
      "from pyfeat.api import wham"
     ],
     "language": "python",
     "metadata": {},
     "outputs": [],
     "prompt_number": 2
    },
    {
     "cell_type": "code",
     "collapsed": false,
     "input": [
      "forge = Forge( trajs, b_K_i=b_K_i )"
     ],
     "language": "python",
     "metadata": {},
     "outputs": []
    },
    {
     "cell_type": "code",
     "collapsed": false,
     "input": [
      "wham_obj = wham( forge, maxiter = 1000, ftol = 1.0e-7, verbose = True )"
     ],
     "language": "python",
     "metadata": {},
     "outputs": []
    },
    {
     "cell_type": "heading",
     "level": 3,
     "metadata": {},
     "source": [
      "Testing dTRAM API"
     ]
    },
    {
     "cell_type": "code",
     "collapsed": false,
     "input": [
      "from pyfeat.api import dtram"
     ],
     "language": "python",
     "metadata": {},
     "outputs": []
    },
    {
     "cell_type": "code",
     "collapsed": false,
     "input": [
      "dtram_obj = dtram( forge, maxiter=20000, ftol =1.0e-4, verbose = True )"
     ],
     "language": "python",
     "metadata": {},
     "outputs": []
    },
    {
     "cell_type": "heading",
     "level": 3,
     "metadata": {},
     "source": [
      "Plotting Results"
     ]
    },
    {
     "cell_type": "code",
     "collapsed": false,
     "input": [
      "exact = np.exp(-U(centers))\n",
      "exact = exact/np.sum(exact)\n",
      "plt.figure(figsize=(8,6))\n",
      "plt.plot(centers[idx],dtram_obj.f_i, color = 'b', linewidth =1.5, label ='dtram', marker = 'o')\n",
      "plt.plot(centers,-np.log(exact), color = 'k', linewidth = 1.5, label = 'exact')\n",
      "plt.plot(centers[idx],wham_obj.f_i, color = 'r', linestyle = '--', linewidth = 1.5, label = 'wham')\n",
      "plt.xlabel('x in [a.u.]', fontsize = 20)\n",
      "plt.ylabel('F in [kT]', fontsize = 20)\n",
      "plt.legend( loc =4)\n",
      "plt.tick_params(axis='both', which='major', labelsize=20)"
     ],
     "language": "python",
     "metadata": {},
     "outputs": []
    },
    {
     "cell_type": "heading",
     "level": 3,
     "metadata": {},
     "source": [
      "Testing xTRAM API"
     ]
    },
    {
     "cell_type": "code",
     "collapsed": false,
     "input": [
      "# assymetric double well potential \n",
      "def U( x ):\n",
      "    return 2*(x-2) - 6*(x-2)**2 + (x-2)**4\n",
      "# gradient of the potential\n",
      "def G( x ):\n",
      "    return 4*x**3-24*x**2+36*x-6\n",
      "# simulated tempering temperature exchange step\n",
      "def change_temp( ct, E, temp_array,f):\n",
      "    newt = np.random.randint(temp_array.shape[0])\n",
      "    b_c = 1.0/temp_array[ct]\n",
      "    b_n = 1.0/temp_array[newt]\n",
      "    if (-(b_n-b_c)*E+(f[newt]-f[ct])) >=0:\n",
      "        return newt\n",
      "    elif np.random.rand() < np.exp( (-(b_n-b_c)*E+(f[newt]-f[ct])) ):\n",
      "        return newt\n",
      "    else:\n",
      "        return ct\n",
      "    \n",
      "#Brownian Dynamics simulation\n",
      "def bd( x0, L, nex, kT_idx = None, kT = None, f = None):\n",
      "    dt =0.005\n",
      "    mass = 1\n",
      "    damping = 1\n",
      "    beta = 1.0/kT[kT_idx]\n",
      "    coeff_A = dt / ( mass * damping )\n",
      "    coeff_B = np.sqrt( 2.0 * dt / ( beta * mass * damping ) )\n",
      "    x = x0\n",
      "    P = [x0]\n",
      "    E = U( x0 )\n",
      "    T = [kT_idx]\n",
      "    u = [E]\n",
      "    for ex in xrange( nex ):\n",
      "        for t in xrange( L ):\n",
      "            g = G( x )\n",
      "            x = x - coeff_A * g + coeff_B * np.random.normal()\n",
      "            P.append( x )\n",
      "            T.append( kT_idx )\n",
      "            e = U( x )\n",
      "            u.append( e*beta )\n",
      "        kT_idx = change_temp( kT_idx, e, kT, f )\n",
      "        beta = 1.0/kT[kT_idx]\n",
      "        coeff_B = np.sqrt( 2.0 * dt / ( beta * mass * damping ) )\n",
      "    \n",
      "    return ( np.array( P, dtype=np.float64 ),np.array( T, dtype=np.intc ),np.array( u, dtype=np.float64 ).reshape(len(u),1) )\n",
      "\n",
      "# discretisation scheme\n",
      "def discretise( T, centers ):\n",
      "    D = np.zeros( shape=T.shape, dtype=np.int32 )\n",
      "    half_width = (centers[2]-centers[1])*0.5\n",
      "    for i in xrange( T.shape[0] ):\n",
      "        if T[i] <= centers[0]:\n",
      "            D[i] = 0\n",
      "        elif T[i] >= centers[-1]:\n",
      "            D[i] = centers.shape[0]-1\n",
      "        else:\n",
      "            for j in xrange( centers.shape[0] ):\n",
      "                if T[i] < centers[j]+half_width:\n",
      "                    D[i] = j\n",
      "                    break\n",
      "    return D\n",
      "# generate trajectories\n",
      "def get_trajectories( centers, L, nex, kT_idx=0, kT = None ,f=None):\n",
      "    r = [] #trajectory list\n",
      "    #run the Brownian dynamics integrator\n",
      "    traj,therm, u = bd( -1.0, L ,nex, kT_idx = kT_idx, kT= kT, f=f)\n",
      "    dtraj = discretise( traj, centers ) #discretise the trajectory into the defined bins\n",
      "    r.append( { 'm':dtraj, 't': therm, 'u': u } ) # list of dictionaries in the correct pytram format\n",
      "    return r\n",
      "\n",
      "\n",
      "# set the discretisation and simulation parameters\n",
      "# kT array\n",
      "TEMPS = np.array( [2.0,4.0,7.0, 15.0] )\n",
      "# factor used to make sure temperatures are roughly sampled equally\n",
      "f = np.array([-5.95994519, -3.37600304, -2.50314141, -2.04173675] ) \n",
      "#definition of the binning\n",
      "NBINS = 50\n",
      "centers = np.linspace(-0.6,4.2,NBINS)\n",
      "L = 100 #trajectoy length before an exchange is attempted   \n",
      "nex = 5000 #number of times a temperature exchange is attempted\n",
      "# run the simulations\n",
      "trajs = get_trajectories( centers, L, nex, kT_idx=0, kT=TEMPS, f=f )"
     ],
     "language": "python",
     "metadata": {},
     "outputs": [],
     "prompt_number": 3
    },
    {
     "cell_type": "code",
     "collapsed": false,
     "input": [
      "from pyfeat.api import xtram"
     ],
     "language": "python",
     "metadata": {},
     "outputs": [],
     "prompt_number": 4
    },
    {
     "cell_type": "code",
     "collapsed": false,
     "input": [
      "forge = Forge( trajs, kT_K= TEMPS, kT_target = 0, verbose = True )\n",
      "tram_obj = xtram( forge, maxiter=1000, ftol = 1.0e-12, verbose = True )"
     ],
     "language": "python",
     "metadata": {},
     "outputs": [
      {
       "output_type": "stream",
       "stream": "stdout",
       "text": [
        "# Counting thermodynamic states\n",
        "# ... found 4 thermodynamic states\n",
        "# Counting Markov states\n",
        "# ... found 50 Markov states\n",
        "# Copying bias energy sequences"
       ]
      },
      {
       "output_type": "stream",
       "stream": "stdout",
       "text": [
        "\n",
        "# Counting visited Markov states\n",
        "# ... done"
       ]
      },
      {
       "output_type": "stream",
       "stream": "stdout",
       "text": [
        "\n",
        "# Copying thermodynamic state sequences\n",
        "# ... done\n",
        "# ... done\n",
        "# Copying Markov state sequences\n",
        "# ... done\n",
        "#   [Step] [rel. Increment]"
       ]
      },
      {
       "output_type": "stream",
       "stream": "stdout",
       "text": [
        "\n",
        "         1   1.92076061e-01"
       ]
      },
      {
       "output_type": "stream",
       "stream": "stdout",
       "text": [
        "\n",
        "         2   8.20527170e-04"
       ]
      },
      {
       "output_type": "stream",
       "stream": "stdout",
       "text": [
        "\n",
        "         3   3.62631125e-06"
       ]
      },
      {
       "output_type": "stream",
       "stream": "stdout",
       "text": [
        "\n",
        "         4   1.60865044e-08"
       ]
      },
      {
       "output_type": "stream",
       "stream": "stdout",
       "text": [
        "\n",
        "         5   7.22915061e-11"
       ]
      },
      {
       "output_type": "stream",
       "stream": "stdout",
       "text": [
        "\n",
        "         6   4.43201031e-13"
       ]
      },
      {
       "output_type": "stream",
       "stream": "stdout",
       "text": [
        "\n"
       ]
      },
      {
       "output_type": "stream",
       "stream": "stderr",
       "text": [
        "/home/mi/ppxasjsm/.local/lib/python2.7/site-packages/pytram-0.1.6-py2.7-linux-x86_64.egg/pytram/tramdata.py:185: FutureWarning: comparison to `None` will result in an elementwise object comparison in the future.\n"
       ]
      }
     ],
     "prompt_number": 7
    },
    {
     "cell_type": "code",
     "collapsed": false,
     "input": [
      "plt.plot(centers, tram_obj.f_i)"
     ],
     "language": "python",
     "metadata": {},
     "outputs": [
      {
       "metadata": {},
       "output_type": "pyout",
       "prompt_number": 8,
       "text": [
        "[<matplotlib.lines.Line2D at 0x7ff2c7d5abd0>]"
       ]
      },
      {
       "metadata": {},
       "output_type": "display_data",
       "png": "[encoded data removed]",
       "text": [
        "<matplotlib.figure.Figure at 0x7ff2c8f8a5d0>"
       ]
      }
     ],
     "prompt_number": 8
    },
    {
     "cell_type": "code",
     "collapsed": false,
     "input": [],
     "language": "python",
     "metadata": {},
     "outputs": []
    },
    {
     "cell_type": "markdown",
     "metadata": {},
     "source": [
      "If you have any further questions on how to use pyfeat please email pyfeat.lists.@fu-berlin.de"
     ]
    }
   ],
   "metadata": {}
  }
 ]
}