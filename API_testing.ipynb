{
 "metadata": {
  "name": "",
  "signature": "sha256:36ec4c21d8cde6025dac66a7e5cc4f939b9e26307b5764712a50c2459c1feefc"
 },
 "nbformat": 3,
 "nbformat_minor": 0,
 "worksheets": [
  {
   "cells": [
    {
     "cell_type": "heading",
     "level": 1,
     "metadata": {},
     "source": [
      "API testing"
     ]
    },
    {
     "cell_type": "code",
     "collapsed": false,
     "input": [
      "%pylab inline\n",
      "import numpy as np\n",
      "import matplotlib.pylab as plt"
     ],
     "language": "python",
     "metadata": {},
     "outputs": []
    },
    {
     "cell_type": "heading",
     "level": 3,
     "metadata": {},
     "source": [
      "Generating Data"
     ]
    },
    {
     "cell_type": "code",
     "collapsed": false,
     "input": [
      "# harmonic bias potential\n",
      "def B( x, xk ):\n",
      "    if None == xk:\n",
      "        return 0.0\n",
      "    return 4.0*( x - xk )**2\n",
      "# double well potential (with otiopnal bias)\n",
      "def U( x, xk=None ):\n",
      "    return 0.25*x**4 - 5.0*x**2 - 9.9874 + B( x, xk )\n",
      "# Metropolis Monte Carlo\n",
      "def mmc( x0, L, xk=None ):\n",
      "    T = [x0]\n",
      "    E = U( x0, xk )\n",
      "    for t in xrange( L ):\n",
      "        x = T[-1] + 0.4*( np.random.rand() - 0.5 )\n",
      "        e = U( x, xk )\n",
      "        accept = False\n",
      "        if e < E:\n",
      "            accept = True\n",
      "        elif np.random.rand() < np.exp( -( e - E ) ):\n",
      "            accept = True\n",
      "        if accept:\n",
      "            T.append( x )\n",
      "            E = e\n",
      "        else:\n",
      "            T.append( T[-1] )\n",
      "    return np.array( T, dtype=np.float64 )\n",
      "# discretisation scheme\n",
      "def discretise( T, centers ):\n",
      "    D = np.zeros( shape=T.shape, dtype=np.int32 )\n",
      "    for i in xrange( T.shape[0] ):\n",
      "        if T[i] <= centers[0]:\n",
      "            D[i] = 0\n",
      "        elif T[i] >= centers[-1]:\n",
      "            D[i] = centers.shape[0]-1\n",
      "        else:\n",
      "            for j in xrange( centers.shape[0] ):\n",
      "                if T[i] < centers[j]+0.05:\n",
      "                    D[i] = j\n",
      "                    break\n",
      "    return D\n",
      "# generate trajectories\n",
      "def get_trajectories( centers, xk, L ):\n",
      "    r = []\n",
      "    for i in xrange( xk.shape[0] ):\n",
      "        traj = mmc( xk[i], L, xk=xk[i] )\n",
      "        dtraj = discretise( traj, centers )\n",
      "        r.append( { 'm': dtraj, 't': np.ones( shape=dtraj.shape, dtype=np.intc ) * i } )\n",
      "    N_K_i = np.zeros( shape=(xk.shape[0],centers.shape[0]), dtype=np.intc )\n",
      "    for K in xrange( xk.shape[0] ):\n",
      "        for i in xrange( centers.shape[0] ):\n",
      "            N_K_i[K,i] = ( r[K]['m'] == i ).sum()\n",
      "    N_i = N_K_i.sum( axis=0 )\n",
      "    idx = ( N_i > 0 )\n",
      "    NSTATES = idx.sum()\n",
      "    for i in reversed( xrange( centers.shape[0] ) ):\n",
      "        if idx[i]:\n",
      "            continue\n",
      "        for K in xrange( xk.shape[0] ):\n",
      "            idx2 = ( r[K]['m'] > i )\n",
      "            r[K]['m'][idx2] -= 1\n",
      "    return r , idx\n",
      "# set the discretisation and simulation parameters\n",
      "NBINS = 101\n",
      "centers = np.linspace( -5.0, 5.0, NBINS )\n",
      "NBIAS = 11\n",
      "xk = np.linspace( -5.0, 5.0, NBIAS )\n",
      "L = 10000\n",
      "# run the simulations\n",
      "trajs , idx = get_trajectories( centers, xk, L )\n",
      "# calculate the number of visisted states\n",
      "NSTATES = idx.sum()\n",
      "# calculate the bias energies for the visited states\n",
      "b_K_i = np.zeros( shape=(xk.shape[0],NSTATES), dtype=np.float64 )\n",
      "for K in xrange( xk.shape[0] ):\n",
      "    b_K_i[K,:] = B( centers[idx], xk[K] )\n"
     ],
     "language": "python",
     "metadata": {},
     "outputs": []
    },
    {
     "cell_type": "heading",
     "level": 3,
     "metadata": {},
     "source": [
      "Testing WHAM API"
     ]
    },
    {
     "cell_type": "code",
     "collapsed": false,
     "input": [
      "from pyfeat import Forge\n",
      "from pyfeat.api import wham"
     ],
     "language": "python",
     "metadata": {},
     "outputs": []
    },
    {
     "cell_type": "code",
     "collapsed": false,
     "input": [
      "forge = Forge( trajs, b_K_i=b_K_i )"
     ],
     "language": "python",
     "metadata": {},
     "outputs": []
    },
    {
     "cell_type": "code",
     "collapsed": false,
     "input": [
      "wham_obj = wham( forge, maxiter = 1000, ftol = 1.0e-7, verbose = True )"
     ],
     "language": "python",
     "metadata": {},
     "outputs": []
    },
    {
     "cell_type": "heading",
     "level": 3,
     "metadata": {},
     "source": [
      "Testing dTRAM API"
     ]
    },
    {
     "cell_type": "code",
     "collapsed": false,
     "input": [
      "from pyfeat.api import dtram"
     ],
     "language": "python",
     "metadata": {},
     "outputs": []
    },
    {
     "cell_type": "code",
     "collapsed": false,
     "input": [
      "dtram_obj = dtram( forge, maxiter=20000, ftol =1.0e-4, verbose = True )"
     ],
     "language": "python",
     "metadata": {},
     "outputs": []
    },
    {
     "cell_type": "heading",
     "level": 3,
     "metadata": {},
     "source": [
      "Plotting Results"
     ]
    },
    {
     "cell_type": "code",
     "collapsed": false,
     "input": [
      "exact = np.exp(-U(centers))\n",
      "exact = exact/np.sum(exact)\n",
      "plt.figure(figsize=(8,6))\n",
      "plt.plot(centers[idx],dtram_obj.f_i, color = 'b', linewidth =1.5, label ='dtram', marker = 'o')\n",
      "plt.plot(centers,-np.log(exact), color = 'k', linewidth = 1.5, label = 'exact')\n",
      "plt.plot(centers[idx],wham_obj.f_i, color = 'r', linestyle = '--', linewidth = 1.5, label = 'wham')\n",
      "plt.xlabel('x in [a.u.]', fontsize = 20)\n",
      "plt.ylabel('F in [kT]', fontsize = 20)\n",
      "plt.legend( loc =4)\n",
      "plt.tick_params(axis='both', which='major', labelsize=20)"
     ],
     "language": "python",
     "metadata": {},
     "outputs": []
    },
    {
     "cell_type": "markdown",
     "metadata": {},
     "source": [
      "If you have any further questions on how to use pyfeat please email pyfeat.lists.@fu-berlin.de"
     ]
    },
    {
     "cell_type": "code",
     "collapsed": false,
     "input": [],
     "language": "python",
     "metadata": {},
     "outputs": []
    }
   ],
   "metadata": {}
  }
 ]
}